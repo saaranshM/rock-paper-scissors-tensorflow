{
  "nbformat": 4,
  "nbformat_minor": 0,
  "metadata": {
    "language_info": {
      "codemirror_mode": {
        "name": "ipython",
        "version": 3
      },
      "file_extension": ".py",
      "mimetype": "text/x-python",
      "name": "python",
      "nbconvert_exporter": "python",
      "pygments_lexer": "ipython3",
      "version": "3.7.7-final"
    },
    "orig_nbformat": 2,
    "kernelspec": {
      "name": "python37764bitd05e92c4ff814ae7a5a1266bb0863022",
      "display_name": "Python 3.7.7 64-bit"
    },
    "colab": {
      "name": "Copy of train.ipynb",
      "provenance": []
    },
    "accelerator": "GPU"
  },
  "cells": [
    {
      "cell_type": "code",
      "metadata": {
        "id": "nqVOi-ktanof",
        "colab_type": "code",
        "outputId": "59258e4c-eda8-4c86-ea18-8476d888ba18",
        "colab": {
          "base_uri": "https://localhost:8080/",
          "height": 55
        }
      },
      "source": [
        "from google.colab import drive\n",
        "drive.mount('/content/drive')"
      ],
      "execution_count": 10,
      "outputs": [
        {
          "output_type": "stream",
          "text": [
            "Drive already mounted at /content/drive; to attempt to forcibly remount, call drive.mount(\"/content/drive\", force_remount=True).\n"
          ],
          "name": "stdout"
        }
      ]
    },
    {
      "cell_type": "code",
      "metadata": {
        "id": "D_2bVLarWIAV",
        "colab_type": "code",
        "colab": {}
      },
      "source": [
        "import tensorflow as tf\n",
        "import numpy as np \n",
        "import cv2\n",
        "import os\n",
        "from tensorflow.keras.models import Sequential,load_model\n",
        "from tensorflow.keras.layers import GlobalAveragePooling2D,Dropout,Convolution2D,Activation\n",
        "from tensorflow.keras.utils import to_categorical"
      ],
      "execution_count": 0,
      "outputs": []
    },
    {
      "cell_type": "code",
      "metadata": {
        "id": "z9QM2e38WIAa",
        "colab_type": "code",
        "colab": {}
      },
      "source": [
        "IMG_DIRECTORY = '/content/drive/My Drive/image_data'\n",
        "\n",
        "CLASS_MAP = {\n",
        "    \"rock\" : 0,\n",
        "    \"paper\" : 1,\n",
        "    \"scissors\" : 2,\n",
        "    \"none\" : 3\n",
        "}\n",
        "\n",
        "NUM_CLASES = len(CLASS_MAP)\n",
        "\n",
        "def mapper(val):\n",
        "    return CLASS_MAP[val]\n"
      ],
      "execution_count": 0,
      "outputs": []
    },
    {
      "cell_type": "code",
      "metadata": {
        "id": "QF03S1lnWIAe",
        "colab_type": "code",
        "colab": {}
      },
      "source": [
        "from tensorflow.keras.applications.densenet import DenseNet121\n",
        "\n",
        "densent = DenseNet121(include_top=False, weights='imagenet',classes=4,input_shape=(227,227,3))\n",
        "\n",
        "def get_model(base):\n",
        "    \n",
        "    model = Sequential()\n",
        "    model.add(base)\n",
        "    model.add(Dropout(0.5))\n",
        "    model.add(Convolution2D(NUM_CLASES, (1,1), padding='valid'))\n",
        "    model.add(Activation('relu'))\n",
        "    model.add(GlobalAveragePooling2D())\n",
        "    model.add(Activation('softmax'))\n",
        "\n",
        "    return model\n"
      ],
      "execution_count": 0,
      "outputs": []
    },
    {
      "cell_type": "code",
      "metadata": {
        "id": "10twcpvnWIAi",
        "colab_type": "code",
        "colab": {}
      },
      "source": [
        "dataset = []\n",
        "counter = 0\n",
        "\n",
        "for dir in os.listdir(IMG_DIRECTORY):\n",
        "    counter = 0\n",
        "    path = os.path.join(IMG_DIRECTORY, dir)\n",
        "    for item in os.listdir(path):\n",
        "      counter = counter + 1\n",
        "      \n",
        "      img = cv2.imread(os.path.join(path, item))\n",
        "      img = cv2.cvtColor(img, cv2.COLOR_BGR2RGB)\n",
        "      img = cv2.resize(img, (227,227))\n",
        "      counter = counter + 1 \n",
        "      print(counter)\n",
        "      \n",
        "      dataset.append([img, dir])\n",
        "\n"
      ],
      "execution_count": 0,
      "outputs": []
    },
    {
      "cell_type": "code",
      "metadata": {
        "id": "h7yAHP-um56o",
        "colab_type": "code",
        "colab": {}
      },
      "source": [
        "print(len(dataset))"
      ],
      "execution_count": 0,
      "outputs": []
    },
    {
      "cell_type": "code",
      "metadata": {
        "id": "lu3DJnJlaaKg",
        "colab_type": "code",
        "colab": {}
      },
      "source": [
        "from random import shuffle\n",
        "shuffle(dataset)"
      ],
      "execution_count": 0,
      "outputs": []
    },
    {
      "cell_type": "code",
      "metadata": {
        "id": "YkjOrBuKWIAl",
        "colab_type": "code",
        "colab": {}
      },
      "source": [
        "\n",
        "data, labels = zip(*dataset)\n",
        "labels = list(map(mapper, labels))\n",
        "\n",
        "labels = to_categorical(labels)"
      ],
      "execution_count": 0,
      "outputs": []
    },
    {
      "cell_type": "code",
      "metadata": {
        "id": "xv1lYw9MWIAn",
        "colab_type": "code",
        "colab": {}
      },
      "source": [
        "from tensorflow.keras.optimizers import Adam\n",
        "\n",
        "dnet = get_model(densent)\n",
        "\n",
        "dnet.compile(\n",
        "    optimizer = Adam(lr=0.0001),\n",
        "    loss='categorical_crossentropy',\n",
        "    metrics=['acc']\n",
        ")\n"
      ],
      "execution_count": 0,
      "outputs": []
    },
    {
      "cell_type": "code",
      "metadata": {
        "id": "tvUWZH4lWIAp",
        "colab_type": "code",
        "outputId": "cd96958e-a032-4560-fe6b-b4031819f67b",
        "colab": {
          "base_uri": "https://localhost:8080/",
          "height": 711
        }
      },
      "source": [
        "from tensorflow.keras.callbacks import ModelCheckpoint, EarlyStopping\n",
        "\n",
        "np_train_data = np.array(data)\n",
        "np_train_labels = np.array(labels)\n",
        "\n",
        "checkpoint = ModelCheckpoint(\n",
        "    'model.h5', \n",
        "    monitor='val_acc', \n",
        "    verbose=1, \n",
        "    save_best_only=True, \n",
        "    save_weights_only=True,\n",
        "    mode='auto'\n",
        ")\n",
        "\n",
        "es = EarlyStopping(patience = 3)\n",
        "\n",
        "dnet.fit(\n",
        "    np_train_data,\n",
        "    np_train_labels, \n",
        "    validation_split=0.2,\n",
        "    verbose=2,\n",
        "    epochs=10,\n",
        "    callbacks=[checkpoint, es]\n",
        "    )\n",
        "\n",
        "dnet.save(\"model.h5\")"
      ],
      "execution_count": 19,
      "outputs": [
        {
          "output_type": "stream",
          "text": [
            "Epoch 1/10\n",
            "\n",
            "Epoch 00001: val_acc improved from -inf to 1.00000, saving model to model.h5\n",
            "150/150 - 33s - loss: 0.0455 - acc: 0.9875 - val_loss: 0.0074 - val_acc: 1.0000\n",
            "Epoch 2/10\n",
            "\n",
            "Epoch 00002: val_acc did not improve from 1.00000\n",
            "150/150 - 31s - loss: 5.6441e-04 - acc: 1.0000 - val_loss: 1.3404e-04 - val_acc: 1.0000\n",
            "Epoch 3/10\n",
            "\n",
            "Epoch 00003: val_acc did not improve from 1.00000\n",
            "150/150 - 31s - loss: 3.3665e-04 - acc: 1.0000 - val_loss: 5.8799e-05 - val_acc: 1.0000\n",
            "Epoch 4/10\n",
            "\n",
            "Epoch 00004: val_acc did not improve from 1.00000\n",
            "150/150 - 31s - loss: 1.5177e-04 - acc: 1.0000 - val_loss: 3.2377e-05 - val_acc: 1.0000\n",
            "Epoch 5/10\n",
            "\n",
            "Epoch 00005: val_acc did not improve from 1.00000\n",
            "150/150 - 31s - loss: 1.1145e-04 - acc: 1.0000 - val_loss: 2.4955e-05 - val_acc: 1.0000\n",
            "Epoch 6/10\n",
            "\n",
            "Epoch 00006: val_acc did not improve from 1.00000\n",
            "150/150 - 31s - loss: 1.0563e-04 - acc: 1.0000 - val_loss: 2.0145e-05 - val_acc: 1.0000\n",
            "Epoch 7/10\n",
            "\n",
            "Epoch 00007: val_acc did not improve from 1.00000\n",
            "150/150 - 31s - loss: 7.8272e-05 - acc: 1.0000 - val_loss: 1.4088e-05 - val_acc: 1.0000\n",
            "Epoch 8/10\n",
            "\n",
            "Epoch 00008: val_acc did not improve from 1.00000\n",
            "150/150 - 31s - loss: 6.7575e-05 - acc: 1.0000 - val_loss: 1.0704e-05 - val_acc: 1.0000\n",
            "Epoch 9/10\n",
            "\n",
            "Epoch 00009: val_acc did not improve from 1.00000\n",
            "150/150 - 31s - loss: 5.8181e-05 - acc: 1.0000 - val_loss: 8.5448e-06 - val_acc: 1.0000\n",
            "Epoch 10/10\n",
            "\n",
            "Epoch 00010: val_acc did not improve from 1.00000\n",
            "150/150 - 31s - loss: 4.6103e-05 - acc: 1.0000 - val_loss: 6.8630e-06 - val_acc: 1.0000\n"
          ],
          "name": "stdout"
        }
      ]
    }
  ]
}